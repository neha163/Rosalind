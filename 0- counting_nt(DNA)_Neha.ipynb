{
 "cells": [
  {
   "cell_type": "code",
   "execution_count": 4,
   "metadata": {},
   "outputs": [
    {
     "name": "stdout",
     "output_type": "stream",
     "text": [
      "243 203 201 206\n"
     ]
    }
   ],
   "source": [
    "dna = 'GTCAGAACGCTTACACAAGATACCATACACACTACTGAAGCGGAATGCACCCCAAGGACTATGCTGAAAGTCGGATAATCATTCCATTCAGAATCAACTGAGATTACTAGCCAAGAGCAGAGACACTACTCTTTGCAAAAATTTAGCCCTCTAGCCCATCTGAGGGAACCAAGCGTGGTATCGCTTCGATAACAGCTTTACGACACGATATGACGCCCATGAGCCAGAGATTTGCGTATTTACAACTACCCACTTTCAGGTCGCTCAAAGTCTCAGCCCCGAGCTTCGAACAATCTGCCTCTGCGGATTAAAATCATGATACCTGAGAAGACAGATTCCTGTTGTTTACGTATAGTGCCTTCCGAAGCAAGGTTAGCCGAGAACCTAGGCGTAGCGGCAAAAGGCGTTGTCGAGAGGTCGCATAGGTAGCTCCATTGAAGCACGAGTCTGTAGGGACACATAAGGATCTTATAAAGACATAAGTTTTGTGACGAAGCTCGTTCCTTAGGATAACACGTTAGGTGGAGCAGAAGCGGATTCGGCATTACATGAAGGCGTGTACTGACGAATTAAAAGTACTAATCTTCCGCTATCGGTGTTACCATGTGAAAGATAGGCTTCCACTAAATGCCCCAGCGGGCAAGTCAGAGACATATGGACTTATACTTTCACGGCTCTGGTTGCCAAATGGTGCAACGGTAAGTGCGGGAAACGGGAAGTTGATCTGATGGTGTGACCTCTCCCAAAGTGATGACTTGGACGCATCCCTACAACCGGTTCTTCTGTAATTAGAGGGGTCTATCGGTCTACCTGCTTCCATAGCAGAGCTCTAAGCCTTTCTACCCCCGAACTG'\n",
    "count_a = count_c = count_g = count_t = 0\n",
    "#going through each nt.\n",
    "for i in dna:\n",
    "    if i == 'A':\n",
    "        count_a += 1\n",
    "    elif i == 'C':\n",
    "        count_c += 1\n",
    "    elif i == 'G':\n",
    "        count_g += 1\n",
    "    elif i == 'T':\n",
    "        count_t += 1;\n",
    "        \n",
    "print(count_a, count_c, count_g, count_t)"
   ]
  },
  {
   "cell_type": "code",
   "execution_count": null,
   "metadata": {},
   "outputs": [],
   "source": []
  }
 ],
 "metadata": {
  "kernelspec": {
   "display_name": "Python 3",
   "language": "python",
   "name": "python3"
  },
  "language_info": {
   "codemirror_mode": {
    "name": "ipython",
    "version": 3
   },
   "file_extension": ".py",
   "mimetype": "text/x-python",
   "name": "python",
   "nbconvert_exporter": "python",
   "pygments_lexer": "ipython3",
   "version": "3.7.0"
  }
 },
 "nbformat": 4,
 "nbformat_minor": 2
}
