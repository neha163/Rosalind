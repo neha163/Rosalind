{
 "cells": [
  {
   "cell_type": "code",
   "execution_count": 1,
   "metadata": {},
   "outputs": [
    {
     "name": "stdout",
     "output_type": "stream",
     "text": [
      "enter dna seq :CGGGACTCCCCAGGTGTGTCGGGACTGCGGGACTCGGGACTACGGGACTACGGGACTTTGCGGGACTCGGGACTGTAACACGGGACTCTCGGGACTCGGGACTCGGGACTAGGCTGAGGAGCGGGACTCGGGACTCGGGACTCGGGACTTCCGACGGGACTACCGGGACTACGGGACTCGGGACTCGGGACTTAGTCGGGACTCGGGACTCGGGACTTCGGGACTTCCGGGACTAGCCTCTATCGGGACTCGGGACTCGGGACTAACGGGACTTGTCTCCCGGGACTACAGTGGACGGGACTATAACGGGACTCGCGGGACTTGCCGTCGGGACTCGGGACTTCAAACATTCGGGACTACCACGTGAGCGGTCGGGACTAACCGGGACTACGGGACTCGGGACTCGGGACTCGGGACTCGGGACTTAGTTCCGGGACTGCGGGACTTACGGGACTTCGGGACTCCCCCCGGGACTTTGCACTGCCACGGGACTACGGGACTCGGGACTCGGGACTCGTGCGGGACTGTCGGGACTCCGGGACTCGGGACTTCTGTAGTGCCCCGGGACTCGGGACTCTGCGGGACTCGGGACTCCCCAGACGGGACTCCGGGACTGCCGGGACTCGGGACTCGGGACTGGCGGGACTCCGGGACTGCGGGACTGCGGGACTTCCAGCGGGACTCTCTTAGAGGGTCGGGACTCGGGACTACGGGACTTCAATCCGGGACTAGTGCGGGACTACGGGACTCCCGGGACTCGGGACTCTTGGGAAAACGCGGGACTGCGCGGGACTACCGGGACTTCT\n",
      "enter motif to find :CGGGACTCG\n",
      "28\n",
      "61\n",
      "90\n",
      "97\n",
      "122\n",
      "129\n",
      "136\n",
      "172\n",
      "179\n",
      "197\n",
      "204\n",
      "244\n",
      "251\n",
      "307\n",
      "329\n",
      "391\n",
      "398\n",
      "405\n",
      "412\n",
      "495\n",
      "502\n",
      "509\n",
      "537\n",
      "563\n",
      "580\n",
      "618\n",
      "625\n",
      "696\n",
      "752\n"
     ]
    }
   ],
   "source": [
    "dna=input(\"enter dna seq :\");\n",
    "motif=input(\"enter motif to find :\")\n",
    "n=len(dna);\n",
    "m=len(motif);\n",
    "\n",
    "#looping till seq-motif len. \n",
    "for i in range (0, n-m):\n",
    "    if(dna[i] == motif[0]): # got the first character same \n",
    "        flag = 0;\n",
    "    for j in range (1, m): # checking if other characters of sequence are in same order as of motif\n",
    "        if(dna[i+j] != motif[j]): \n",
    "            flag=-1; # if we did not get the match then flag will indicate -1 which tells not to print for this i\n",
    "            break;\n",
    "            j+=1\n",
    "    if(flag==0): # after looping if we still get flag as 0 then that means we got a match a position i\n",
    "        print(i+1);\n",
    "    i+=1"
   ]
  },
  {
   "cell_type": "code",
   "execution_count": null,
   "metadata": {},
   "outputs": [],
   "source": []
  }
 ],
 "metadata": {
  "kernelspec": {
   "display_name": "Python 3",
   "language": "python",
   "name": "python3"
  },
  "language_info": {
   "codemirror_mode": {
    "name": "ipython",
    "version": 3
   },
   "file_extension": ".py",
   "mimetype": "text/x-python",
   "name": "python",
   "nbconvert_exporter": "python",
   "pygments_lexer": "ipython3",
   "version": "3.7.0"
  }
 },
 "nbformat": 4,
 "nbformat_minor": 2
}
