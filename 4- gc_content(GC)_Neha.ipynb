{
 "cells": [
  {
   "cell_type": "code",
   "execution_count": 165,
   "metadata": {},
   "outputs": [
    {
     "name": "stdout",
     "output_type": "stream",
     "text": [
      ">Rosalind_3363\n",
      " 52.84916201\n"
     ]
    }
   ],
   "source": [
    "data = open('rosalind_gc (2).txt', 'r')\n",
    "lines = data.readlines()\n",
    "dicti={}\n",
    "\n",
    "#filtering the sequnces and header\n",
    "for line in lines:\n",
    "    if line.startswith('>'):\n",
    "        header = line;\n",
    "        sequence = ''\n",
    "    else:\n",
    "        \n",
    "        #seq in single variable\n",
    "        sequence =sequence + line.strip('\\n')\n",
    "    #header becomes key, seq becomes value\n",
    "    dicti[header] = sequence\n",
    "    \n",
    "#to compute % and store in list    \n",
    "percent =[]\n",
    "\n",
    "#accessing dictionary\n",
    "for key, values in dicti.items():\n",
    "    count= 0\n",
    "    \n",
    "    #for each nt of seq\n",
    "    for j in values:\n",
    "        if j == \"G\" or j == 'C':\n",
    "            count += 1\n",
    "            \n",
    "    #appedning the % for all seq\n",
    "    percent.append((count/ len(values)) *100)\n",
    "    \n",
    "#printing max %\n",
    "print(key,\"%.8f\" % max(percent))"
   ]
  }
 ],
 "metadata": {
  "kernelspec": {
   "display_name": "Python 3",
   "language": "python",
   "name": "python3"
  },
  "language_info": {
   "codemirror_mode": {
    "name": "ipython",
    "version": 3
   },
   "file_extension": ".py",
   "mimetype": "text/x-python",
   "name": "python",
   "nbconvert_exporter": "python",
   "pygments_lexer": "ipython3",
   "version": "3.7.0"
  }
 },
 "nbformat": 4,
 "nbformat_minor": 2
}
