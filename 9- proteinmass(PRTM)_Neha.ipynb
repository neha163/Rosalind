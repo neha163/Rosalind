{
 "cells": [
  {
   "cell_type": "code",
   "execution_count": 16,
   "metadata": {},
   "outputs": [
    {
     "name": "stdout",
     "output_type": "stream",
     "text": [
      "115028.081\n"
     ]
    }
   ],
   "source": [
    "table = {'A': 71.03711, 'C': 103.00919, 'D': 115.02694, 'E': 129.04259, 'F': 147.06841, 'G': 57.02146, 'H': 137.05891, 'I': 113.08406, 'K': 128.09496, 'L': 113.08406, 'M':131.04049, 'N': 114.04293, 'P': 97.05276, 'Q': 128.05858, 'R': 156.10111, 'S': 87.03203, 'T': 101.04768, 'V': 99.06841, 'W': 186.07931, 'Y': 163.06333}\n",
    "protein = 'HWEHWPEYPFVHQRFNWTPDQYPACDPPHWWPASLPALLIMGIVYYDEQMAPTRGYYQQQRRAMEKTLKTISYTYSQKPPPNINFYCWEVFRAYYMLENDWFKYPMLSFPDKWLPSTWRYMYGSRKQMSYTIFMWQFPHDWEDDHSHPFGPMTCAFPWGWENPCAEIIHTTYSEQLGMPHAIKIMPQRKVWNCGAYDEENGADGGMNLQELKDTEYPEDRDVGPTCTCEFFICRMGMSPTSDVMRRDQCIPRKDFAFSEHCEFTVCYNNTEHYLKVFVFFCDTDRAEADSVTFCVWTPMPHQTGPHKEETNQYMEGGIKSLSTPMRRFMDCGQEKCRMHIQQWVTIFENGHFLTSQWHWAAKTYSNLRPKYKWSFFMAITPSDKGFPSWHEMICNTMFSHTAFAMWVQHAKPIMHFGSGPCNPHMPCKQPPSMLWGRQIWMTCGSRCVRWKIFDVQYSNPRGIGFHQFLASVEYNYWEKLYSPIQQYWFWMHDCAWEPVRPKSPWIETYSQYFDTFVNFCLMQAIPNMVMHHNYDSYMQNMMDYSLCIASIHLNFVIARGYTSCFPMNDKFVIHNFFRFQPLQANNCTMMADSMYKGFFPPPIYGILRMQCEWYVQIKKSKKIVQLCSEMVAEAYYKNGTACMYEKVVEWGSWAYTYAIQFVPNNVPPQLIAHTIMARSISTDQLVEGAYWWNYAMNKLAYEKVKKRPNAHRSIASRKPPLGIGMNTMKHMWGWNGICHDGYAYCPTDNYFGMVGVTYTQLAEKNSVYRLSCVNCGVKLALMMWMSWEFAGSENWYIADHHNIAACQECYTPNIWMNCNIAMAVTIPMMKGHCSCAVDWIGMGANIWIQGAQWWDFFFCHRSRKDISCNMPGMTNAVSGSNMNLSGMDMCCFGQDPMRTTAEFPNHFNFLFPASWISQYWKENPNWTELVGMVQEQQIMQWSADHRGCHCCPIRRWECKKVLKDQSTFVSEEVGC'\n",
    "mass = 0\n",
    "\n",
    "#accesing the table dictionary\n",
    "for keys, values in table.items():\n",
    "    #for each proein symbol/letter\n",
    "    for i in protein:\n",
    "        \n",
    "        #if letter found in table\n",
    "        if i in keys:\n",
    "            \n",
    "            #add its mass\n",
    "            mass = mass + values;\n",
    "#round off to 3 decimal places           \n",
    "print(round(mass,3))\n",
    "        \n",
    "    "
   ]
  }
 ],
 "metadata": {
  "kernelspec": {
   "display_name": "Python 3",
   "language": "python",
   "name": "python3"
  },
  "language_info": {
   "codemirror_mode": {
    "name": "ipython",
    "version": 3
   },
   "file_extension": ".py",
   "mimetype": "text/x-python",
   "name": "python",
   "nbconvert_exporter": "python",
   "pygments_lexer": "ipython3",
   "version": "3.7.0"
  }
 },
 "nbformat": 4,
 "nbformat_minor": 2
}
