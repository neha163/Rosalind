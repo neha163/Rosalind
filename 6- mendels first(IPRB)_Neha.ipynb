{
 "cells": [
  {
   "cell_type": "code",
   "execution_count": 7,
   "metadata": {},
   "outputs": [
    {
     "data": {
      "text/plain": [
       "0.77269"
      ]
     },
     "execution_count": 7,
     "metadata": {},
     "output_type": "execute_result"
    }
   ],
   "source": [
    "#k= population with homozygous, m = population with heterozygous, n = population with homozygous recessive\n",
    "k, m, n = map(float, ['25', '25', '22'])\n",
    "total = k + m + n\n",
    "\n",
    "#all possible combinations to get dominant phenotype with their individual probabilites \n",
    "combinations = [k*(k-1), k*m, k*n, m*k, m*(m-1)*0.75, m*n*0.5, n*k, n*m*0.5, n*(n-1)*0 ]\n",
    "\n",
    "#computing probabilites \n",
    "result = sum(combinations)/(total*(total-1))\n",
    "\n",
    "round(result, 5)"
   ]
  }
 ],
 "metadata": {
  "kernelspec": {
   "display_name": "Python 3",
   "language": "python",
   "name": "python3"
  },
  "language_info": {
   "codemirror_mode": {
    "name": "ipython",
    "version": 3
   },
   "file_extension": ".py",
   "mimetype": "text/x-python",
   "name": "python",
   "nbconvert_exporter": "python",
   "pygments_lexer": "ipython3",
   "version": "3.7.0"
  }
 },
 "nbformat": 4,
 "nbformat_minor": 2
}
